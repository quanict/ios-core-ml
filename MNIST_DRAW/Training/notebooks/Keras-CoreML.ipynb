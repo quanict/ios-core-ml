{
 "cells": [
  {
   "cell_type": "code",
   "execution_count": 1,
   "metadata": {},
   "outputs": [
    {
     "name": "stdout",
     "output_type": "stream",
     "text": [
      "0 : convolution2d_input_1, <keras.engine.topology.InputLayer object at 0x113621650>\n",
      "1 : convolution2d_2, <keras.layers.convolutional.Convolution2D object at 0x113621550>\n",
      "2 : activation_1, <keras.layers.core.Activation object at 0x1136599d0>\n",
      "3 : convolution2d_3, <keras.layers.convolutional.Convolution2D object at 0x113621bd0>\n",
      "4 : activation_2, <keras.layers.core.Activation object at 0x11369dbd0>\n",
      "5 : maxpooling2d_1, <keras.layers.pooling.MaxPooling2D object at 0x1136af0d0>\n",
      "6 : flatten_1, <keras.layers.core.Flatten object at 0x1136bae50>\n",
      "7 : dense_1, <keras.layers.core.Dense object at 0x113708c10>\n",
      "8 : activation_3, <keras.layers.core.Activation object at 0x113738410>\n",
      "9 : dense_2, <keras.layers.core.Dense object at 0x113725710>\n",
      "10 : activation_4, <keras.layers.core.Activation object at 0x1137db1d0>\n"
     ]
    }
   ],
   "source": [
    "import coremltools\n",
    "coreml_model = coremltools.converters.keras.convert('mnist_cnn_keras_122.h5')"
   ]
  },
  {
   "cell_type": "code",
   "execution_count": 2,
   "metadata": {},
   "outputs": [
    {
     "data": {
      "text/plain": [
       "input {\n",
       "  name: \"input1\"\n",
       "  type {\n",
       "    multiArrayType {\n",
       "      shape: 1\n",
       "      shape: 28\n",
       "      shape: 28\n",
       "      dataType: DOUBLE\n",
       "    }\n",
       "  }\n",
       "}\n",
       "output {\n",
       "  name: \"output1\"\n",
       "  type {\n",
       "    multiArrayType {\n",
       "      shape: 10\n",
       "      dataType: DOUBLE\n",
       "    }\n",
       "  }\n",
       "}"
      ]
     },
     "execution_count": 2,
     "metadata": {},
     "output_type": "execute_result"
    }
   ],
   "source": [
    "coreml_model"
   ]
  },
  {
   "cell_type": "code",
   "execution_count": 3,
   "metadata": {
    "collapsed": true
   },
   "outputs": [],
   "source": [
    "coreml_model.save('mnist_cnn_keras.mlmodel')"
   ]
  }
 ],
 "metadata": {
  "kernelspec": {
   "display_name": "Python 2",
   "language": "python",
   "name": "python2"
  },
  "language_info": {
   "codemirror_mode": {
    "name": "ipython",
    "version": 2
   },
   "file_extension": ".py",
   "mimetype": "text/x-python",
   "name": "python",
   "nbconvert_exporter": "python",
   "pygments_lexer": "ipython2",
   "version": "2.7.13"
  }
 },
 "nbformat": 4,
 "nbformat_minor": 2
}
